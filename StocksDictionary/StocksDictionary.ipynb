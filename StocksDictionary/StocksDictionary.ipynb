{
 "cells": [
  {
   "cell_type": "code",
   "execution_count": 3,
   "id": "d70433e3-7c04-4248-9d9a-76ded0bf92ea",
   "metadata": {},
   "outputs": [],
   "source": [
    "import requests\n",
    "import pandas as pd\n",
    "from typing import Dict\n",
    "\n",
    "TOKEN: str = ''\n",
    "headers: Dict[str, str] = {\n",
    "        'User-Agent': 'Mozilla/5.0 (Macintosh; Intel Mac OS X 10_10_1) AppleWebKit/537.36 (KHTML, like Gecko) '\n",
    "                      'Chrome/39.0.2171.95 Safari/537.36',\n",
    "        'content-type': 'application/json',\n",
    "        'Accept': 'application/json',\n",
    "        'Authorization': 'Bearer ' + TOKEN\n",
    "}"
   ]
  },
  {
   "cell_type": "code",
   "execution_count": 2,
   "id": "b6cc0543-9335-4d0e-ae52-f72515fe89bf",
   "metadata": {},
   "outputs": [
    {
     "data": {
      "text/plain": [
       "True"
      ]
     },
     "execution_count": 2,
     "metadata": {},
     "output_type": "execute_result"
    }
   ],
   "source": [
    "SharesResponse = requests.post(\n",
    "    'https://invest-public-api.tinkoff.ru/rest/tinkoff.public.invest.api.contract.v1.InstrumentsService/Shares', \n",
    "    json={}, \n",
    "    headers=headers)\n",
    "SharesResponse.ok"
   ]
  },
  {
   "cell_type": "code",
   "execution_count": 3,
   "id": "be636fba-f864-49a7-86b4-63e83235df43",
   "metadata": {},
   "outputs": [],
   "source": [
    "Shares = pd.DataFrame(SharesResponse.json()['instruments'])\n",
    "Shares.to_csv(\"./Shares.csv\")"
   ]
  },
  {
   "cell_type": "code",
   "execution_count": 4,
   "id": "3d89262e-2a72-4e16-a319-750280315ae9",
   "metadata": {},
   "outputs": [
    {
     "data": {
      "text/plain": [
       "True"
      ]
     },
     "execution_count": 4,
     "metadata": {},
     "output_type": "execute_result"
    }
   ],
   "source": [
    "BondsResponse = requests.post(\n",
    "    'https://invest-public-api.tinkoff.ru/rest/tinkoff.public.invest.api.contract.v1.InstrumentsService/Bonds', \n",
    "    json={}, \n",
    "    headers=headers)\n",
    "BondsResponse.ok"
   ]
  },
  {
   "cell_type": "code",
   "execution_count": 5,
   "id": "4b87419c-b4c2-4af0-819e-9a9212fd1030",
   "metadata": {},
   "outputs": [],
   "source": [
    "Bonds = pd.DataFrame(BondsResponse.json()['instruments'])\n",
    "Bonds.to_csv(\"./Bonds.csv\")"
   ]
  },
  {
   "cell_type": "code",
   "execution_count": 6,
   "id": "6d1c0ccd-f58e-4b94-97f8-354bd2345972",
   "metadata": {},
   "outputs": [
    {
     "data": {
      "text/plain": [
       "True"
      ]
     },
     "execution_count": 6,
     "metadata": {},
     "output_type": "execute_result"
    }
   ],
   "source": [
    "EtfsResponse = requests.post(\n",
    "    'https://invest-public-api.tinkoff.ru/rest/tinkoff.public.invest.api.contract.v1.InstrumentsService/Etfs', \n",
    "    json={}, \n",
    "    headers=headers)\n",
    "EtfsResponse.ok"
   ]
  },
  {
   "cell_type": "code",
   "execution_count": 7,
   "id": "27e918d3-c486-429c-acde-52e892ca395b",
   "metadata": {},
   "outputs": [],
   "source": [
    "Etfs = pd.DataFrame(EtfsResponse.json()['instruments'])\n",
    "Etfs.to_csv(\"./Etfs.csv\")"
   ]
  }
 ],
 "metadata": {
  "kernelspec": {
   "display_name": "Python 3 (ipykernel)",
   "language": "python",
   "name": "python3"
  },
  "language_info": {
   "codemirror_mode": {
    "name": "ipython",
    "version": 3
   },
   "file_extension": ".py",
   "mimetype": "text/x-python",
   "name": "python",
   "nbconvert_exporter": "python",
   "pygments_lexer": "ipython3",
   "version": "3.11.9"
  }
 },
 "nbformat": 4,
 "nbformat_minor": 5
}
